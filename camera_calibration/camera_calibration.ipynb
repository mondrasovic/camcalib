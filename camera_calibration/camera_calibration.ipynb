{
 "cells": [
  {
   "cell_type": "code",
   "execution_count": 59,
   "source": [
    "import math\n",
    "\n",
    "\n",
    "frames_output_dir_path = './calibration_frames'"
   ],
   "outputs": [],
   "metadata": {}
  },
  {
   "cell_type": "code",
   "execution_count": 1,
   "outputs": [],
   "source": [
    "import pathlib\n",
    "\n",
    "import os\n",
    "import sys\n",
    "import time\n",
    "import numpy as np\n",
    "import cv2 as cv"
   ],
   "metadata": {
    "collapsed": false,
    "pycharm": {
     "name": "#%%\n"
    }
   }
  },
  {
   "cell_type": "code",
   "execution_count": 61,
   "source": [
    "\n",
    "target_frames_count = 10\n",
    "frame_shot_delay_sec = 5\n",
    "quit_key = 'q'\n",
    "\n",
    "capture = cv.VideoCapture(0)\n",
    "\n",
    "frame_count = 0\n",
    "prev_frame_time = time.time()\n",
    "\n",
    "while frame_count < target_frames_count:\n",
    "    read_status, frame = capture.read()\n",
    "    if not read_status:\n",
    "        print('error: unable to read next frame, terminating...', file=sys.stderr)\n",
    "        break\n",
    "    \n",
    "    curr_time = time.time()\n",
    "    rem_sec_to_next_capture = max(0, frame_shot_delay_sec - (curr_time - prev_frame_time))\n",
    "    \n",
    "    if rem_sec_to_next_capture < 1e-6:\n",
    "        frame_count += 1\n",
    "        prev_frame_time = curr_time\n",
    "        \n",
    "        file_name = 'calib_frame_{:03d}.jpg'.format(frame_count)\n",
    "        file_path = os.path.join(frames_output_dir_path, file_name)\n",
    "        cv.imwrite(file_path, frame)\n",
    "    \n",
    "    text = '[{} / {}] time rem.: {:.4f} s.'.format(\n",
    "        frame_count, target_frames_count, rem_sec_to_next_capture)\n",
    "    cv.putText(frame, text, (10, 70), cv.FONT_HERSHEY_SIMPLEX, 1, (0, 255, 0), 4, cv.LINE_AA)\n",
    "    cv.imshow('Webcam feed (press \\'{}\\' to quit)'.format(quit_key), frame)\n",
    "    \n",
    "    if cv.waitKey(1) & 0xff == ord(quit_key):\n",
    "        break\n",
    "\n",
    "capture.release()\n",
    "cv.destroyAllWindows()"
   ],
   "outputs": [],
   "metadata": {}
  },
  {
   "cell_type": "code",
   "execution_count": 164,
   "outputs": [],
   "source": [
    "def draw_countdown_clock(img, progress, radius=0.5, origin=None, alpha=0.5):\n",
    "    radius = int(round((min(img.shape[:2]) / 2) * radius))\n",
    "\n",
    "    if origin:\n",
    "        center = origin\n",
    "    else:\n",
    "        cx, cy = img.shape[1] // 2, img.shape[0] // 2\n",
    "        center = (cx, cy)\n",
    "\n",
    "    angle = np.pi * (2 * progress - 0.5)\n",
    "\n",
    "    fill_mask = np.ones_like(img, dtype=np.float32)\n",
    "    cv.ellipse(\n",
    "        fill_mask, center, (radius, radius), 0,\n",
    "        270, np.degrees(angle), (alpha, alpha, alpha), thickness=-1,\n",
    "        lineType=cv.LINE_AA\n",
    "    )\n",
    "    img = (img * fill_mask).round().astype(np.uint8)\n",
    "\n",
    "    white = (255, 255, 255)\n",
    "    cv.circle(img, center, radius, white, thickness=1, lineType=cv.LINE_AA)\n",
    "    cv.circle(img, center, 3, white, thickness=-1, lineType=cv.LINE_AA)\n",
    "\n",
    "    coords = np.asarray((np.cos(angle), np.sin(angle)))\n",
    "    coords = ((coords * radius) + center).round().astype(np.int)\n",
    "    cv.line(img, center, tuple(coords), white, thickness=1, lineType=cv.LINE_AA)\n",
    "\n",
    "    return img\n",
    "\n",
    "\n",
    "img = cv.imread(\"./calibration_frames/calib_frame_001.jpg\")\n",
    "img = draw_countdown_clock(img, 0.93)\n",
    "cv.imshow(\"Preview\", img)\n",
    "cv.waitKey(0)\n",
    "cv.destroyAllWindows()"
   ],
   "metadata": {
    "collapsed": false,
    "pycharm": {
     "name": "#%%\n"
    }
   }
  },
  {
   "cell_type": "code",
   "execution_count": 144,
   "outputs": [
    {
     "data": {
      "text/plain": "-90.0"
     },
     "execution_count": 144,
     "metadata": {},
     "output_type": "execute_result"
    }
   ],
   "source": [
    "np.degrees(-np.pi / 2)"
   ],
   "metadata": {
    "collapsed": false,
    "pycharm": {
     "name": "#%%\n"
    }
   }
  },
  {
   "cell_type": "code",
   "execution_count": 76,
   "source": [
    "preview_captured = True\n",
    "\n",
    "pattern_size = (9, 7)\n",
    "criteria = (cv.TERM_CRITERIA_EPS + cv.TERM_CRITERIA_MAX_ITER, 100, 0.0001)\n",
    "\n",
    "# prepare object points, like (0,0,0), (1,0,0), (2,0,0) ....,(8,6,0)\n",
    "objp = np.zeros((pattern_size[0] * pattern_size[1], 3), np.float32)\n",
    "objp[:, :2] = np.mgrid[0:pattern_size[0], 0:pattern_size[1]].T.reshape(-1, 2)\n",
    "\n",
    "obj_points = [] # 3D points in real world space.\n",
    "img_points = [] # 2D points in image plane.\n",
    "\n",
    "for frame_file in pathlib.Path(frames_output_dir_path).iterdir():\n",
    "    frame = cv.imread(str(frame_file))\n",
    "    \n",
    "    gray = cv.cvtColor(frame, cv.COLOR_BGR2GRAY)\n",
    "    ret, corners = cv.findChessboardCorners(gray, pattern_size)\n",
    "    \n",
    "    if not ret:\n",
    "        continue\n",
    "    \n",
    "    obj_points.append(objp)\n",
    "\n",
    "    corners_refined = cv.cornerSubPix(gray, corners, (11, 11), (-1, -1), criteria)\n",
    "    img_points.append(corners_refined)\n",
    "    \n",
    "    if preview_captured:\n",
    "        time.sleep(1)\n",
    "        \n",
    "        frame = cv.drawChessboardCorners(frame, pattern_size, corners_refined, ret)\n",
    "        cv.imshow('Captured calibration frame preview', frame)\n",
    "        if cv.waitKey(1) & 0xff == ord('q'):\n",
    "            break\n",
    "\n",
    "cv.destroyAllWindows()\n",
    "\n",
    "_, camera_matrix, dist_coefs, rvecs, tvecs = cv.calibrateCamera(\n",
    "    obj_points, img_points, pattern_size, None, None\n",
    ")"
   ],
   "outputs": [],
   "metadata": {}
  },
  {
   "cell_type": "code",
   "execution_count": 83,
   "source": [
    "def draw_world_axes(img, rvec, tvec, K, dist_coefs=(0, 0, 0, 0), mag=3):\n",
    "    def _draw_line(pt1, pt2, color):\n",
    "        cv.arrowedLine(\n",
    "            img, pt1, pt2, color=color, thickness=3, line_type=cv.LINE_AA,\n",
    "            tipLength=0.2\n",
    "        )\n",
    "\n",
    "    points = np.float32(\n",
    "        ((mag, 0, 0), (0, mag, 0), (0, 0, mag), (0, 0, 0))\n",
    "    )\n",
    "    points_projected, _ = cv.projectPoints(points, rvec, tvec, K, dist_coefs)\n",
    "    origin = tuple(points_projected[3].ravel())\n",
    "\n",
    "    _draw_line(origin, tuple(points_projected[0].ravel()), (0, 0, 255))\n",
    "    _draw_line(origin, tuple(points_projected[1].ravel()), (0, 255, 0))\n",
    "    _draw_line(origin, tuple(points_projected[2].ravel()), (255, 0, 0))\n",
    "\n",
    "    return img\n",
    "\n",
    "def draw_world_plane(\n",
    "        img, rvec, tvec, K, dist_coefs=(0, 0, 0, 0), mag=5, alpha=0.7\n",
    "):\n",
    "    points = np.float32(\n",
    "        ((-mag, -mag, 0), (mag, -mag, 0),\n",
    "         (mag, mag, 0), (-mag, mag, 0))\n",
    "    )\n",
    "    points_projected, _ = cv.projectPoints(points, rvec, tvec, K, dist_coefs)\n",
    "    points_projected = points_projected.round().astype(np.int32)\n",
    "\n",
    "    img_overlay = np.ones_like(img, dtype=np.float32)\n",
    "    cv.fillPoly(img_overlay, [points_projected], (alpha, alpha, alpha))\n",
    "    img = (img * img_overlay).round().astype(np.uint8)\n",
    "\n",
    "    return img\n",
    "\n",
    "def img_show(img, winname=\"Preview\"):\n",
    "    cv.imshow(winname, img)\n",
    "    cv.waitKey(0)\n",
    "    cv.destroyWindow(winname)\n",
    "\n",
    "img = cv.imread(\"./calibration_frames/calib_frame_001.jpg\")\n",
    "index = 0\n",
    "img = draw_world_plane(img, rvecs[index], tvecs[index], camera_matrix, dist_coefs)\n",
    "img = draw_world_axes(img, rvecs[index], tvecs[index], camera_matrix, dist_coefs)\n",
    "img_show(img)"
   ],
   "outputs": [],
   "metadata": {}
  },
  {
   "cell_type": "code",
   "execution_count": 28,
   "source": [
    "for frame_file in pathlib.Path(frames_output_dir_path).iterdir():\n",
    "    frame = cv2.imread(str(frame_file))\n",
    "    \n",
    "    h, w = frame.shape[:2]\n",
    "    \n",
    "    newcameramtx, roi = cv2.getOptimalNewCameraMatrix(camera_matrix, dist_coefs, (w, h), 1, (w, h))\n",
    "    dst = cv2.undistort(frame, camera_matrix, dist_coefs, None, newcameramtx)\n",
    "    \n",
    "    x, y, w, h = roi\n",
    "    dst = dst[y:y+h, x:x+w]\n",
    "    \n",
    "    undist_file_path = pathlib.Path(frames_output_dir_path) / pathlib.Path('{}_undist{}'.format(frame_file.stem, frame_file.suffix))\n",
    "    print('Saving... {}'.format(str(undist_file_path)))\n",
    "    cv2.imwrite(str(undist_file_path), dst)"
   ],
   "outputs": [
    {
     "name": "stdout",
     "output_type": "stream",
     "text": [
      "Saving... calibration_frames\\calib_frame_001_undist.jpg\n",
      "Saving... calibration_frames\\calib_frame_002_undist.jpg\n",
      "Saving... calibration_frames\\calib_frame_003_undist.jpg\n",
      "Saving... calibration_frames\\calib_frame_004_undist.jpg\n",
      "Saving... calibration_frames\\calib_frame_005_undist.jpg\n",
      "Saving... calibration_frames\\calib_frame_006_undist.jpg\n",
      "Saving... calibration_frames\\calib_frame_007_undist.jpg\n",
      "Saving... calibration_frames\\calib_frame_008_undist.jpg\n",
      "Saving... calibration_frames\\calib_frame_009_undist.jpg\n",
      "Saving... calibration_frames\\calib_frame_010_undist.jpg\n"
     ]
    }
   ],
   "metadata": {
    "pycharm": {
     "name": "#%%\n"
    }
   }
  },
  {
   "cell_type": "code",
   "execution_count": 9,
   "outputs": [
    {
     "data": {
      "text/plain": "1.3333333333333333"
     },
     "execution_count": 9,
     "metadata": {},
     "output_type": "execute_result"
    }
   ],
   "source": [
    "r1 = 640 / 480\n",
    "r2 = 1280 / 720\n",
    "r1, r2"
   ],
   "metadata": {
    "collapsed": false,
    "pycharm": {
     "name": "#%%\n"
    }
   }
  }
 ],
 "metadata": {
  "kernelspec": {
   "name": "python3",
   "language": "python",
   "display_name": "Python 3"
  },
  "language_info": {
   "codemirror_mode": {
    "name": "ipython",
    "version": 3
   },
   "file_extension": ".py",
   "mimetype": "text/x-python",
   "name": "python",
   "nbconvert_exporter": "python",
   "pygments_lexer": "ipython3",
   "version": "3.7.9"
  },
  "interpreter": {
   "hash": "8423d299652f78eb0f125f4787854431abc24c3cd5da653d06c6efd34d750ecd"
  }
 },
 "nbformat": 4,
 "nbformat_minor": 2
}